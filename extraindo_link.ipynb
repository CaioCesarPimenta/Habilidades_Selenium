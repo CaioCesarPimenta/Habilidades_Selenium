{
 "cells": [
  {
   "cell_type": "code",
   "execution_count": 2,
   "id": "487ee6dc",
   "metadata": {},
   "outputs": [],
   "source": [
    "from selenium import webdriver\n",
    "from selenium.webdriver.common.by import By"
   ]
  },
  {
   "cell_type": "code",
   "execution_count": null,
   "id": "9be891f8",
   "metadata": {},
   "outputs": [],
   "source": [
    "navegador = webdriver.Chrome()\n",
    "\n",
    "navegador.get('https://www.mercadolivre.com.br/')\n"
   ]
  },
  {
   "cell_type": "code",
   "execution_count": 6,
   "id": "1f35294e",
   "metadata": {},
   "outputs": [
    {
     "name": "stdout",
     "output_type": "stream",
     "text": [
      "https://www.mercadolivre.com.br/microsoft-xbox-series-s-512gb-standard-cor-branco/p/MLB16650345?pdp_filters=deal:MLB779362-1#searchVariation=MLB16650345&position=1&search_layout=grid&type=product&tracking_id=1990e56a-ab55-4a8e-a073-88d6e6635332&c_id=/home/promotions-recommendations/element&c_element_order=1&c_uid=47f59a14-dbf4-4652-884c-8dbe8f46050a\n",
      "https://www.mercadolivre.com.br/assinaturas/nivel-6#origin=ml_home\n",
      "https://produto.mercadolivre.com.br/MLB-1029003849-geladeira-brastemp-frost-free-inverse-573-litros-bre80ak-_JM#c_id=/home/official-stores/item&c_brand_name=Brastemp&c_element_order=1&c_uid=08d9174b-dc65-4e44-beaa-24c00f55ecb9\n",
      "https://www.mercadolivre.com.br/c/carros-motos-e-outros#c_id=/home/categories/element&c_category_id=MLB1743&c_uid=5d9da507-035b-4113-8085-7b7ade9ca2e0\n"
     ]
    }
   ],
   "source": [
    "x = navegador.find_elements(By.CLASS_NAME , 'slick-list')\n",
    "\n",
    "for loop in x:\n",
    "    try:\n",
    "        z  = loop.find_element(By.TAG_NAME , 'a').get_attribute('href')\n",
    "        print(z)\n",
    "    except:\n",
    "        continue\n",
    "        "
   ]
  }
 ],
 "metadata": {
  "kernelspec": {
   "display_name": "Python 3 (ipykernel)",
   "language": "python",
   "name": "python3"
  },
  "language_info": {
   "codemirror_mode": {
    "name": "ipython",
    "version": 3
   },
   "file_extension": ".py",
   "mimetype": "text/x-python",
   "name": "python",
   "nbconvert_exporter": "python",
   "pygments_lexer": "ipython3",
   "version": "3.9.12"
  }
 },
 "nbformat": 4,
 "nbformat_minor": 5
}
